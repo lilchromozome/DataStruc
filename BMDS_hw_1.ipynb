{
  "nbformat": 4,
  "nbformat_minor": 0,
  "metadata": {
    "colab": {
      "provenance": [],
      "authorship_tag": "ABX9TyMmmXMqaRLA1dJcSZqKVaW8",
      "include_colab_link": true
    },
    "kernelspec": {
      "name": "python3",
      "display_name": "Python 3"
    },
    "language_info": {
      "name": "python"
    }
  },
  "cells": [
    {
      "cell_type": "markdown",
      "metadata": {
        "id": "view-in-github",
        "colab_type": "text"
      },
      "source": [
        "<a href=\"https://colab.research.google.com/github/lilchromozome/DataStruc/blob/main/BMDS_hw_1.ipynb\" target=\"_parent\"><img src=\"https://colab.research.google.com/assets/colab-badge.svg\" alt=\"Open In Colab\"/></a>"
      ]
    },
    {
      "cell_type": "markdown",
      "source": [
        "\n",
        "\n",
        "```\n",
        "yuh tuh\n",
        "Imma real skreet fella\n",
        "```\n",
        "\n"
      ],
      "metadata": {
        "id": "fQGqOd5vSt6E"
      }
    },
    {
      "cell_type": "code",
      "source": [
        "69 * 420"
      ],
      "metadata": {
        "colab": {
          "base_uri": "https://localhost:8080/"
        },
        "id": "bK-5dObKSzWr",
        "outputId": "3602a8d5-e1e0-4803-fe40-a195350bd87c"
      },
      "execution_count": 2,
      "outputs": [
        {
          "output_type": "execute_result",
          "data": {
            "text/plain": [
              "28980"
            ]
          },
          "metadata": {},
          "execution_count": 2
        }
      ]
    },
    {
      "cell_type": "code",
      "source": [],
      "metadata": {
        "id": "d4fUG9ZuS55n"
      },
      "execution_count": null,
      "outputs": []
    }
  ]
}